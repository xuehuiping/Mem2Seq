{
 "cells": [
  {
   "cell_type": "raw",
   "metadata": {},
   "source": [
    "分析测试结果\n",
    "\n",
    "模型Mem2Seq + 数据集BABI + 任务1"
   ]
  },
  {
   "cell_type": "code",
   "execution_count": 6,
   "metadata": {},
   "outputs": [
    {
     "name": "stdout",
     "output_type": "stream",
     "text": [
      "nohup python3 main_test.py -dec=Mem2Seq -path=save/mem2seq-BABI/1HDD128BSZ8DR0.2L1lr0.001Mem2Seq0.9978390957446809 -bsz=8 -ds=babi -t=1 > log_Mem2Seq_babi_1/log_0.9978390957446809 &\n",
      "nohup python3 main_test.py -dec=Mem2Seq -path=save/mem2seq-BABI/1HDD128BSZ8DR0.2L1lr0.001Mem2Seq0.6407437310030395 -bsz=8 -ds=babi -t=1 > log_Mem2Seq_babi_1/log_0.6407437310030395 &\n",
      "nohup python3 main_test.py -dec=Mem2Seq -path=save/mem2seq-BABI/1HDD128BSZ8DR0.2L1lr0.001Mem2Seq0.946286094224924 -bsz=8 -ds=babi -t=1 > log_Mem2Seq_babi_1/log_0.946286094224924 &\n",
      "nohup python3 main_test.py -dec=Mem2Seq -path=save/mem2seq-BABI/1HDD128BSZ8DR0.2L1lr0.001Mem2Seq0.983876329787234 -bsz=8 -ds=babi -t=1 > log_Mem2Seq_babi_1/log_0.983876329787234 &\n",
      "nohup python3 main_test.py -dec=Mem2Seq -path=save/mem2seq-BABI/1HDD128BSZ8DR0.2L1lr0.001Mem2Seq0.9983377659574468 -bsz=8 -ds=babi -t=1 > log_Mem2Seq_babi_1/log_0.9983377659574468 &\n",
      "nohup python3 main_test.py -dec=Mem2Seq -path=save/mem2seq-BABI/1HDD128BSZ8DR0.2L1lr0.001Mem2Seq0.9998337765957447 -bsz=8 -ds=babi -t=1 > log_Mem2Seq_babi_1/log_0.9998337765957447 &\n",
      "nohup python3 main_test.py -dec=Mem2Seq -path=save/mem2seq-BABI/1HDD128BSZ8DR0.2L1lr0.001Mem2Seq0.996343085106383 -bsz=8 -ds=babi -t=1 > log_Mem2Seq_babi_1/log_0.996343085106383 &\n",
      "nohup python3 main_test.py -dec=Mem2Seq -path=save/mem2seq-BABI/1HDD128BSZ8DR0.2L1lr0.001Mem2Seq0.9644281914893617 -bsz=8 -ds=babi -t=1 > log_Mem2Seq_babi_1/log_0.9644281914893617 &\n",
      "nohup python3 main_test.py -dec=Mem2Seq -path=save/mem2seq-BABI/1HDD128BSZ8DR0.2L1lr0.001Mem2Seq1.0 -bsz=8 -ds=babi -t=1 > log_Mem2Seq_babi_1/log_1.0 &\n",
      "nohup python3 main_test.py -dec=Mem2Seq -path=save/mem2seq-BABI/1HDD128BSZ8DR0.2L1lr0.001Mem2Seq0.7792315729483283 -bsz=8 -ds=babi -t=1 > log_Mem2Seq_babi_1/log_0.7792315729483283 &\n",
      "nohup python3 main_test.py -dec=Mem2Seq -path=save/mem2seq-BABI/1HDD128BSZ8DR0.2L1lr0.001Mem2Seq0.9477821048632219 -bsz=8 -ds=babi -t=1 > log_Mem2Seq_babi_1/log_0.9477821048632219 &\n",
      "nohup python3 main_test.py -dec=Mem2Seq -path=save/mem2seq-BABI/1HDD128BSZ8DR0.2L1lr0.001Mem2Seq0.8816251899696049 -bsz=8 -ds=babi -t=1 > log_Mem2Seq_babi_1/log_0.8816251899696049 &\n",
      "nohup python3 main_test.py -dec=Mem2Seq -path=save/mem2seq-BABI/1HDD128BSZ8DR0.2L1lr0.001Mem2Seq0.8792980623100305 -bsz=8 -ds=babi -t=1 > log_Mem2Seq_babi_1/log_0.8792980623100305 &\n",
      "nohup python3 main_test.py -dec=Mem2Seq -path=save/mem2seq-BABI/1HDD128BSZ8DR0.2L1lr0.001Mem2Seq0.9878656914893617 -bsz=8 -ds=babi -t=1 > log_Mem2Seq_babi_1/log_0.9878656914893617 &\n"
     ]
    }
   ],
   "source": [
    "import os\n",
    "\n",
    "files = os.listdir('save/mem2seq-BABI/')\n",
    "for file in files:\n",
    "    if('.DS_Store'==file):\n",
    "        continue\n",
    "    log_file='log_Mem2Seq_babi_1/log_'+file.split('Mem2Seq')[1]\n",
    "    print('nohup python3 main_test.py -dec=Mem2Seq \\\n",
    "-path=save/mem2seq-BABI/{0} -bsz=8 -ds=babi -t=1 > {1} &'.format(file,log_file))"
   ]
  },
  {
   "cell_type": "markdown",
   "metadata": {},
   "source": [
    "\n",
    "`python3 main_test.py -dec=Mem2Seq \\\n",
    "-path=save/mem2seq-BABI/1HDD128BSZ8DR0.2L1lr0.001Mem2Seq1.0 -bsz=8 -ds=babi -t=1 > log.4.19.txt`\n",
    "\n",
    "\n",
    "模型文件mem2seq-BABI/1HDD128BSZ8DR0.2L1lr0.001Mem2Seq1.0\n",
    "实验结果最好的是：\n",
    "训练集：Dialog Accuracy:\t1.0； BLEU SCORE:100.0\n",
    "测试集：Dialog Accuracy:\t0.439；BLEU SCORE:94.31\n",
    "\n",
    "acc_test = 0.894"
   ]
  },
  {
   "cell_type": "markdown",
   "metadata": {},
   "source": [
    "![](log_Mem2Seq_babi_1/2020-04-20-12-11-47.png)\n"
   ]
  },
  {
   "cell_type": "markdown",
   "metadata": {},
   "source": [
    "Mem2Seq在DSTC2拥有最高75.3％的Entity F1得分和55.3 BLEU得分\n",
    "\n",
    "模型Mem2Seq + 数据集BABI + 任务6\n",
    "\n",
    "TRAIN:\n",
    "04-22 00:02 Dialog Accuracy:    0.0\n",
    "04-22 00:02 F1 SCORE:   0.6863799447319833\n",
    "04-22 00:02 BLEU SCORE:   69.85\n",
    "\n",
    "TEST:\n",
    "04-22 08:30 Dialog Accuracy:\t0.0008952551477170994\n",
    "04-22 08:30 F1 SCORE:\t0.7040530544521351\n",
    "04-22 08:30 BLEU SCORE:\t\t53.81\n",
    "        \n",
    "acc_test = 0.4103024911032029"
   ]
  },
  {
   "cell_type": "markdown",
   "metadata": {},
   "source": [
    "![](log_Mem2Seq_babi_6/task6_train_result.png)"
   ]
  },
  {
   "cell_type": "code",
   "execution_count": null,
   "metadata": {},
   "outputs": [],
   "source": []
  }
 ],
 "metadata": {
  "kernelspec": {
   "display_name": "Python 3",
   "language": "python",
   "name": "python3"
  },
  "language_info": {
   "codemirror_mode": {
    "name": "ipython",
    "version": 3
   },
   "file_extension": ".py",
   "mimetype": "text/x-python",
   "name": "python",
   "nbconvert_exporter": "python",
   "pygments_lexer": "ipython3",
   "version": "3.7.3"
  }
 },
 "nbformat": 4,
 "nbformat_minor": 2
}

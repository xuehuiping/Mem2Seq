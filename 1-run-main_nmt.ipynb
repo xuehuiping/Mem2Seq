{
 "cells": [
  {
   "cell_type": "raw",
   "metadata": {},
   "source": [
    "python3 main_nmt.py\n",
    "\n",
    "一个简单的序列到序列的模型实现，完成英语到法语的翻译任务。\n"
   ]
  },
  {
   "cell_type": "code",
   "execution_count": 3,
   "metadata": {},
   "outputs": [
    {
     "name": "stdout",
     "output_type": "stream",
     "text": [
      "Collecting ipykernel\n",
      "  Downloading https://files.pythonhosted.org/packages/ed/5d/cf47741fa80826f8edf435d9bcf0e84eef2d6d02953ff85e0563b3ab3f0b/ipykernel-5.2.1-py3-none-any.whl (118kB)\n",
      "\u001b[K    100% |████████████████████████████████| 122kB 30kB/s ta 0:00:01\n",
      "\u001b[?25hCollecting tornado>=4.2 (from ipykernel)\n",
      "  Downloading https://files.pythonhosted.org/packages/95/84/119a46d494f008969bf0c775cb2c6b3579d3c4cc1bb1b41a022aa93ee242/tornado-6.0.4.tar.gz (496kB)\n",
      "\u001b[K    100% |████████████████████████████████| 501kB 33kB/s ta 0:00:01\n",
      "\u001b[?25hCollecting traitlets>=4.1.0 (from ipykernel)\n",
      "  Using cached https://files.pythonhosted.org/packages/ca/ab/872a23e29cec3cf2594af7e857f18b687ad21039c1f9b922fac5b9b142d5/traitlets-4.3.3-py2.py3-none-any.whl\n",
      "Collecting ipython>=5.0.0 (from ipykernel)\n",
      "  Downloading https://files.pythonhosted.org/packages/61/6f/69f1eec859ce48a86660529b166b6ea466f0f4ab98e4fc0807b835aa22c6/ipython-7.13.0-py3-none-any.whl (780kB)\n",
      "\u001b[K    100% |████████████████████████████████| 788kB 22kB/s ta 0:00:01\n",
      "\u001b[?25hCollecting jupyter-client (from ipykernel)\n",
      "  Downloading https://files.pythonhosted.org/packages/34/0b/2ebddf775f558158ca8df23b35445fb15d4b1558a9e4a03bc7e75b13476e/jupyter_client-6.1.3-py3-none-any.whl (106kB)\n",
      "\u001b[K    100% |████████████████████████████████| 112kB 22kB/s ta 0:00:01\n",
      "\u001b[?25hCollecting decorator (from traitlets>=4.1.0->ipykernel)\n",
      "  Using cached https://files.pythonhosted.org/packages/ed/1b/72a1821152d07cf1d8b6fce298aeb06a7eb90f4d6d41acec9861e7cc6df0/decorator-4.4.2-py2.py3-none-any.whl\n",
      "Collecting ipython-genutils (from traitlets>=4.1.0->ipykernel)\n",
      "  Using cached https://files.pythonhosted.org/packages/fa/bc/9bd3b5c2b4774d5f33b2d544f1460be9df7df2fe42f352135381c347c69a/ipython_genutils-0.2.0-py2.py3-none-any.whl\n",
      "Requirement already satisfied: six in ./env/lib/python3.6/site-packages (from traitlets>=4.1.0->ipykernel)\n",
      "Collecting pickleshare (from ipython>=5.0.0->ipykernel)\n",
      "  Using cached https://files.pythonhosted.org/packages/9a/41/220f49aaea88bc6fa6cba8d05ecf24676326156c23b991e80b3f2fc24c77/pickleshare-0.7.5-py2.py3-none-any.whl\n",
      "Collecting prompt-toolkit!=3.0.0,!=3.0.1,<3.1.0,>=2.0.0 (from ipython>=5.0.0->ipykernel)\n",
      "  Downloading https://files.pythonhosted.org/packages/e4/a7/81b39aa50e9284fe2cb21cc7fb7de7817b224172d42793fd57451d38842b/prompt_toolkit-3.0.5-py3-none-any.whl (351kB)\n",
      "\u001b[K    100% |████████████████████████████████| 358kB 17kB/s ta 0:00:01\n",
      "\u001b[?25hCollecting jedi>=0.10 (from ipython>=5.0.0->ipykernel)\n",
      "  Downloading https://files.pythonhosted.org/packages/f3/3f/67f027e18c60a800875df1a0894a2436ce9053637fa39725766e937c0a71/jedi-0.17.0-py2.py3-none-any.whl (1.1MB)\n",
      "\u001b[K    100% |████████████████████████████████| 1.1MB 41kB/s ta 0:00:01\n",
      "\u001b[?25hCollecting pygments (from ipython>=5.0.0->ipykernel)\n",
      "  Downloading https://files.pythonhosted.org/packages/2d/68/106af3ae51daf807e9cdcba6a90e518954eb8b70341cee52995540a53ead/Pygments-2.6.1-py3-none-any.whl (914kB)\n",
      "\u001b[K    100% |████████████████████████████████| 921kB 35kB/s ta 0:00:01\n",
      "\u001b[?25hCollecting backcall (from ipython>=5.0.0->ipykernel)\n",
      "Collecting pexpect; sys_platform != \"win32\" (from ipython>=5.0.0->ipykernel)\n",
      "  Using cached https://files.pythonhosted.org/packages/39/7b/88dbb785881c28a102619d46423cb853b46dbccc70d3ac362d99773a78ce/pexpect-4.8.0-py2.py3-none-any.whl\n",
      "Requirement already satisfied: setuptools>=18.5 in ./env/lib/python3.6/site-packages (from ipython>=5.0.0->ipykernel)\n",
      "Requirement already satisfied: python-dateutil>=2.1 in ./env/lib/python3.6/site-packages (from jupyter-client->ipykernel)\n",
      "Collecting pyzmq>=13 (from jupyter-client->ipykernel)\n",
      "  Downloading https://files.pythonhosted.org/packages/41/fa/e6e10410f01b03d10ab0705717d1246f63cdbbc0676140c78f0f757db332/pyzmq-19.0.0-cp36-cp36m-manylinux1_x86_64.whl (1.1MB)\n",
      "\u001b[K    100% |████████████████████████████████| 1.1MB 18kB/s ta 0:00:01\n",
      "\u001b[?25hCollecting jupyter-core>=4.6.0 (from jupyter-client->ipykernel)\n",
      "  Using cached https://files.pythonhosted.org/packages/63/0d/df2d17cdf389cea83e2efa9a4d32f7d527ba78667e0153a8e676e957b2f7/jupyter_core-4.6.3-py2.py3-none-any.whl\n",
      "Collecting wcwidth (from prompt-toolkit!=3.0.0,!=3.0.1,<3.1.0,>=2.0.0->ipython>=5.0.0->ipykernel)\n",
      "  Downloading https://files.pythonhosted.org/packages/f6/d5/1ecdac957e3ea12c1b319fcdee8b6917ffaff8b4644d673c4d72d2f20b49/wcwidth-0.1.9-py2.py3-none-any.whl\n",
      "Collecting parso>=0.7.0 (from jedi>=0.10->ipython>=5.0.0->ipykernel)\n",
      "  Downloading https://files.pythonhosted.org/packages/b5/61/998cce9e7476de000d031874df26a18f67cb73448164fc44a98f0c55920b/parso-0.7.0-py2.py3-none-any.whl (100kB)\n",
      "\u001b[K    100% |████████████████████████████████| 102kB 18kB/s a 0:00:01\n",
      "\u001b[?25hCollecting ptyprocess>=0.5 (from pexpect; sys_platform != \"win32\"->ipython>=5.0.0->ipykernel)\n",
      "  Using cached https://files.pythonhosted.org/packages/d1/29/605c2cc68a9992d18dada28206eeada56ea4bd07a239669da41674648b6f/ptyprocess-0.6.0-py2.py3-none-any.whl\n",
      "Building wheels for collected packages: tornado\n",
      "  Running setup.py bdist_wheel for tornado ... \u001b[?25lerror\n",
      "  Complete output from command /home/xuehp/git/Mem2Seq/env/bin/python3 -u -c \"import setuptools, tokenize;__file__='/tmp/pip-build-vt6r95d7/tornado/setup.py';f=getattr(tokenize, 'open', open)(__file__);code=f.read().replace('\\r\\n', '\\n');f.close();exec(compile(code, __file__, 'exec'))\" bdist_wheel -d /tmp/tmpqru1tiskpip-wheel- --python-tag cp36:\n",
      "  usage: -c [global_opts] cmd1 [cmd1_opts] [cmd2 [cmd2_opts] ...]\n",
      "     or: -c --help [cmd1 cmd2 ...]\n",
      "     or: -c --help-commands\n",
      "     or: -c cmd --help\n",
      "  \n",
      "  error: invalid command 'bdist_wheel'\n",
      "  \n",
      "  ----------------------------------------\n",
      "\u001b[31m  Failed building wheel for tornado\u001b[0m\n",
      "\u001b[?25h  Running setup.py clean for tornado\n",
      "Failed to build tornado\n",
      "Installing collected packages: tornado, decorator, ipython-genutils, traitlets, pickleshare, wcwidth, prompt-toolkit, parso, jedi, pygments, backcall, ptyprocess, pexpect, ipython, pyzmq, jupyter-core, jupyter-client, ipykernel\n",
      "  Running setup.py install for tornado ... \u001b[?25ldone\n",
      "\u001b[?25hSuccessfully installed backcall-0.1.0 decorator-4.4.2 ipykernel-5.2.1 ipython-7.13.0 ipython-genutils-0.2.0 jedi-0.17.0 jupyter-client-6.1.3 jupyter-core-4.6.3 parso-0.7.0 pexpect-4.8.0 pickleshare-0.7.5 prompt-toolkit-3.0.5 ptyprocess-0.6.0 pygments-2.6.1 pyzmq-19.0.0 tornado-6.0.4 traitlets-4.3.3 wcwidth-0.1.9\n"
     ]
    }
   ],
   "source": [
    "!pip install ipykernel"
   ]
  },
  {
   "cell_type": "code",
   "execution_count": 2,
   "metadata": {},
   "outputs": [
    {
     "name": "stdout",
     "output_type": "stream",
     "text": [
      "{'dataset': None, 'task': None, 'decoder': None, 'hidden': None, 'batch': None, 'learn': None, 'drop': None, 'unk_mask': 1, 'layer': None, 'limit': -10000, 'path': None, 'test': None, 'sample': None, 'useKB': 1, 'entPtr': 0, 'evalp': 2, 'addName': ''}\n",
      "04-19 14:28 Reading lines from data/eng-fra.txt\n",
      "04-19 14:29 Pointer percentace= 0.1438264022393819 \n",
      "04-19 14:29 Max responce Len: 60\n",
      "04-19 14:29 Max Input Len: 52\n",
      "04-19 14:29 Sample: Eng = go . $$$$, Fre = va !, Ptr = [2, 2]\n",
      "04-19 14:29 Read 142222 sentence pairs train\n",
      "04-19 14:29 Max len Input 52 \n",
      "04-19 14:29 Vocab_size 39234 \n",
      "04-19 14:29 USE_CUDA=False\n",
      "04-19 14:29 Epoch:0\n",
      "  0%|                                                  | 0/4445 [00:00<?, ?it/s]/home/xuehp/git/Mem2Seq/models/Mem2Seq_NMT.py:153: UserWarning: torch.nn.utils.clip_grad_norm is now deprecated in favor of torch.nn.utils.clip_grad_norm_.\n",
      "  ec = torch.nn.utils.clip_grad_norm(self.encoder.parameters(), clip)\n",
      "/home/xuehp/git/Mem2Seq/models/Mem2Seq_NMT.py:154: UserWarning: torch.nn.utils.clip_grad_norm is now deprecated in favor of torch.nn.utils.clip_grad_norm_.\n",
      "  dc = torch.nn.utils.clip_grad_norm(self.decoder.parameters(), clip)\n",
      "Traceback (most recent call last):\n",
      "  File \"main_nmt.py\", line 31, in <module>\n",
      "    reset=r)\n",
      "  File \"/home/xuehp/git/Mem2Seq/models/Mem2Seq_NMT.py\", line 158, in train_batch\n",
      "    self.loss += loss.data[0]\n",
      "IndexError: invalid index of a 0-dim tensor. Use tensor.item() to convert a 0-dim tensor to a Python number\n",
      "  0%|                                                  | 0/4445 [00:02<?, ?it/s]\n"
     ]
    }
   ],
   "source": [
    "!python3 main_nmt.py\n"
   ]
  },
  {
   "cell_type": "code",
   "execution_count": null,
   "metadata": {},
   "outputs": [],
   "source": []
  }
 ],
 "metadata": {
  "kernelspec": {
   "display_name": "Python 3",
   "language": "python",
   "name": "python3"
  },
  "language_info": {
   "codemirror_mode": {
    "name": "ipython",
    "version": 3
   },
   "file_extension": ".py",
   "mimetype": "text/x-python",
   "name": "python",
   "nbconvert_exporter": "python",
   "pygments_lexer": "ipython3",
   "version": "3.6.9"
  }
 },
 "nbformat": 4,
 "nbformat_minor": 2
}

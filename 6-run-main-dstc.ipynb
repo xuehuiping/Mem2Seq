{
 "cells": [
  {
   "cell_type": "raw",
   "metadata": {},
   "source": [
    "2020-04-21 20:03:08\n",
    "\n",
    "Task 6 is a bit different since its data comes from the Dialog State Tracking Challenge 2 (http://camdial.org/~mh521/dstc/), which we modified to convert it into the same format as the other tasks. There is no OOV test set associated with this task and the knowledge base (dialog-babi-task6-dstc2-kb.txt) is imperfect. This task has its own candidates file (dialog-babi-task6-dstc2-candidates.txt).\n",
    "\n",
    "所以，任务id=6，就是dstc了\n"
   ]
  },
  {
   "cell_type": "raw",
   "metadata": {},
   "source": [
    "!python3 main_train.py -lr=0.001 -layer=1 \\\n",
    "-hdd=128 -dr=0.2 -dec=Mem2Seq -bsz=8 -ds=babi -t=6 \n",
    "\n",
    "2020-04-21 20:09:37 可以运行，放到服务器\n",
    "\n",
    "nohup python3 main_train.py -lr=0.001 -layer=1 \\\n",
    "-hdd=128 -dr=0.2 -dec=Mem2Seq -bsz=8 -ds=babi -t=6 > log.4.21.txt &\n",
    "\n",
    "(env) xuehp@haomeiya002:~/git/Mem2Seq$ \n"
   ]
  },
  {
   "cell_type": "raw",
   "metadata": {},
   "source": [
    "\n",
    "测试看看结果\n",
    "\n",
    "2020-04-22 08:34:53\n",
    "\n",
    "python3 main_test.py -dec=Mem2Seq \\\n",
    "-path=save/mem2seq-BABI/6HDD128BSZ8DR0.2L1lr0.001Mem2Seq0.5316620879120879 -bsz=8 -ds=babi -t=6 > log.4.22.txt \n",
    "\n",
    "放到服务器运行\n"
   ]
  },
  {
   "cell_type": "code",
   "execution_count": null,
   "metadata": {},
   "outputs": [],
   "source": []
  },
  {
   "cell_type": "code",
   "execution_count": null,
   "metadata": {},
   "outputs": [],
   "source": []
  }
 ],
 "metadata": {
  "kernelspec": {
   "display_name": "Python 3",
   "language": "python",
   "name": "python3"
  },
  "language_info": {
   "codemirror_mode": {
    "name": "ipython",
    "version": 3
   },
   "file_extension": ".py",
   "mimetype": "text/x-python",
   "name": "python",
   "nbconvert_exporter": "python",
   "pygments_lexer": "ipython3",
   "version": "3.7.3"
  }
 },
 "nbformat": 4,
 "nbformat_minor": 2
}

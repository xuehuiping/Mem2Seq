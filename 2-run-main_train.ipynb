{
 "cells": [
  {
   "cell_type": "markdown",
   "metadata": {},
   "source": [
    "仓库中给了main_train.py，可以训练端到端的模型。\n",
    "数据集babi和kvr\n",
    "\n",
    "\n",
    "您可以选择的选项是：\n",
    "```\n",
    "-t this is task dependent. 1-6 for bAbI and nothing for In-Car\n",
    "-ds choose which dataset to use (babi and kvr)\n",
    "-dec to choose the model. The option are: Mem2Seq, VanillaSeqToSeq, LuongSeqToSeq, PTRUNK\n",
    "-hdd hidden state size of the two rnn\n",
    "-bsz batch size\n",
    "-lr learning rate\n",
    "-dr dropout rate\n",
    "-layer number of stacked rnn layers, or number of hops for Mem2Seq\n",
    "```"
   ]
  },
  {
   "cell_type": "code",
   "execution_count": 2,
   "metadata": {},
   "outputs": [
    {
     "name": "stdout",
     "output_type": "stream",
     "text": [
      "{'dataset': 'babi', 'task': '1', 'decoder': 'Mem2Seq', 'hidden': '128', 'batch': '8', 'learn': '0.001', 'drop': '0.2', 'unk_mask': 1, 'layer': '1', 'limit': -10000, 'path': None, 'test': None, 'sample': None, 'useKB': 1, 'entPtr': 0, 'evalp': 2, 'addName': ''}\n",
      "04-19 14:32 Reading lines from data/dialog-bAbI-tasks/dialog-babi-task1trn.txt\n",
      "04-19 14:32 Pointer percentace= 0.23558445004643758 \n",
      "04-19 14:32 Max responce Len: 9\n",
      "04-19 14:32 Max Input Len: 73\n",
      "04-19 14:32 Avg. User Utterances: 4.024\n",
      "04-19 14:32 Avg. Bot Utterances: 6.024\n",
      "04-19 14:32 Avg. KB results: 0.0\n",
      "04-19 14:32 Avg. responce Len: 6.255810092961488\n",
      "Sample:  [['hi', '$u', 't1'], ['hello', '$s', 't1'], ['what', '$s', 't1'], ['can', '$s', 't1'], ['i', '$s', 't1'], ['help', '$s', 't1'], ['you', '$s', 't1'], ['with', '$s', 't1'], ['today', '$s', 't1'], ['can', '$u', 't2'], ['you', '$u', 't2'], ['book', '$u', 't2'], ['a', '$u', 't2'], ['table', '$u', 't2'], ['$$$$', '$$$$', '$$$$']] i'm on it [14, 14, 14] [0, 0, 0]\n",
      "04-19 14:32 Reading lines from data/dialog-bAbI-tasks/dialog-babi-task1dev.txt\n",
      "04-19 14:32 Pointer percentace= 0.23736755231350834 \n",
      "04-19 14:32 Max responce Len: 9\n",
      "04-19 14:32 Max Input Len: 73\n",
      "04-19 14:32 Avg. User Utterances: 4.015\n",
      "04-19 14:32 Avg. Bot Utterances: 6.015\n",
      "04-19 14:32 Avg. KB results: 0.0\n",
      "04-19 14:32 Avg. responce Len: 6.244721529509559\n",
      "Sample:  [['hello', '$u', 't1'], ['hello', '$s', 't1'], ['what', '$s', 't1'], ['can', '$s', 't1'], ['i', '$s', 't1'], ['help', '$s', 't1'], ['you', '$s', 't1'], ['with', '$s', 't1'], ['today', '$s', 't1'], ['can', '$u', 't2'], ['you', '$u', 't2'], ['book', '$u', 't2'], ['a', '$u', 't2'], ['table', '$u', 't2'], ['for', '$u', 't2'], ['six', '$u', 't2'], ['people', '$u', 't2'], ['with', '$u', 't2'], ['french', '$u', 't2'], ['food', '$u', 't2'], ['$$$$', '$$$$', '$$$$']] i'm on it [20, 20, 20] [0, 0, 0]\n",
      "04-19 14:32 Reading lines from data/dialog-bAbI-tasks/dialog-babi-task1tst.txt\n",
      "04-19 14:32 Pointer percentace= 0.2377867746288799 \n",
      "04-19 14:32 Max responce Len: 9\n",
      "04-19 14:32 Max Input Len: 73\n",
      "04-19 14:32 Avg. User Utterances: 3.936\n",
      "04-19 14:32 Avg. Bot Utterances: 5.936\n",
      "04-19 14:32 Avg. KB results: 0.0\n",
      "04-19 14:32 Avg. responce Len: 6.241576819407008\n",
      "Sample:  [['good', '$u', 't1'], ['morning', '$u', 't1'], ['hello', '$s', 't1'], ['what', '$s', 't1'], ['can', '$s', 't1'], ['i', '$s', 't1'], ['help', '$s', 't1'], ['you', '$s', 't1'], ['with', '$s', 't1'], ['today', '$s', 't1'], ['can', '$u', 't2'], ['you', '$u', 't2'], ['book', '$u', 't2'], ['a', '$u', 't2'], ['table', '$u', 't2'], ['in', '$u', 't2'], ['a', '$u', 't2'], ['cheap', '$u', 't2'], ['price', '$u', 't2'], ['range', '$u', 't2'], ['in', '$u', 't2'], ['london', '$u', 't2'], ['$$$$', '$$$$', '$$$$']] i'm on it [22, 22, 22] [0, 0, 0]\n",
      "04-19 14:32 Reading lines from data/dialog-bAbI-tasks/dialog-babi-task1tst-OOV.txt\n",
      "04-19 14:32 Pointer percentace= 0.23688052451357736 \n",
      "04-19 14:32 Max responce Len: 9\n",
      "04-19 14:32 Max Input Len: 73\n",
      "04-19 14:32 Avg. User Utterances: 4.02\n",
      "04-19 14:32 Avg. Bot Utterances: 6.02\n",
      "04-19 14:32 Avg. KB results: 0.0\n",
      "04-19 14:32 Avg. responce Len: 6.25797342192691\n",
      "Sample:  [['hello', '$u', 't1'], ['hello', '$s', 't1'], ['what', '$s', 't1'], ['can', '$s', 't1'], ['i', '$s', 't1'], ['help', '$s', 't1'], ['you', '$s', 't1'], ['with', '$s', 't1'], ['today', '$s', 't1'], ['may', '$u', 't2'], ['i', '$u', 't2'], ['have', '$u', 't2'], ['a', '$u', 't2'], ['table', '$u', 't2'], ['in', '$u', 't2'], ['seoul', '$u', 't2'], ['$$$$', '$$$$', '$$$$']] i'm on it [16, 16, 16] [0, 0, 0]\n",
      "04-19 14:32 Read 6024 sentence pairs train\n",
      "04-19 14:32 Read 6015 sentence pairs dev\n",
      "04-19 14:32 Read 5936 sentence pairs test\n",
      "04-19 14:32 Read 6020 sentence pairs test\n",
      "04-19 14:32 Max len Input 74 \n",
      "04-19 14:32 Vocab_size 93 \n",
      "04-19 14:32 USE_CUDA=False\n",
      "/home/xuehp/git/Mem2Seq/env/lib/python3.6/site-packages/torch/nn/modules/rnn.py:54: UserWarning: dropout option adds dropout after all but last recurrent layer, so non-zero dropout expects num_layers greater than 1, but got dropout=0.2 and num_layers=1\n",
      "  \"num_layers={}\".format(dropout, num_layers))\n",
      "04-19 14:32 Epoch:0\n",
      "  0%|                                                   | 0/753 [00:00<?, ?it/s]/home/xuehp/git/Mem2Seq/models/Mem2Seq.py:155: UserWarning: torch.nn.utils.clip_grad_norm is now deprecated in favor of torch.nn.utils.clip_grad_norm_.\n",
      "  ec = torch.nn.utils.clip_grad_norm(self.encoder.parameters(), clip)\n",
      "/home/xuehp/git/Mem2Seq/models/Mem2Seq.py:156: UserWarning: torch.nn.utils.clip_grad_norm is now deprecated in favor of torch.nn.utils.clip_grad_norm_.\n",
      "  dc = torch.nn.utils.clip_grad_norm(self.decoder.parameters(), clip)\n",
      "L:2.07, VL:1.54, PL:0.52: 100%|███████████████| 753/753 [00:22<00:00, 34.16it/s]\n",
      "04-19 14:32 Epoch:1\n",
      "L:0.77, VL:0.56, PL:0.21: 100%|███████████████| 753/753 [00:22<00:00, 33.99it/s]\n",
      "04-19 14:32 STARTING EVALUATION\n",
      "R:0.6831,W:27.4470: 100%|█████████████████████| 752/752 [00:54<00:00, 13.74it/s]\n",
      "04-19 14:33 Dialog Accuracy:\t0.071\n",
      "Unable to fetch multi-bleu.perl script, using local.\n",
      "Traceback (most recent call last):\n",
      "  File \"main_train.py\", line 62, in <module>\n",
      "    acc = model.evaluate(dev,avg_best, BLEU)    \n",
      "  File \"/home/xuehp/git/Mem2Seq/models/Mem2Seq.py\", line 361, in evaluate\n",
      "    bleu_score = moses_multi_bleu(np.array(hyp), np.array(ref), lowercase=True) \n",
      "  File \"/home/xuehp/git/Mem2Seq/utils/measures.py\", line 103, in moses_multi_bleu\n",
      "    bleu_out = subprocess.check_output(bleu_cmd, stdin=read_pred, stderr=subprocess.STDOUT)\n",
      "  File \"/usr/lib/python3.6/subprocess.py\", line 356, in check_output\n",
      "    **kwargs).stdout\n",
      "  File \"/usr/lib/python3.6/subprocess.py\", line 423, in run\n",
      "    with Popen(*popenargs, **kwargs) as process:\n",
      "  File \"/usr/lib/python3.6/subprocess.py\", line 729, in __init__\n",
      "    restore_signals, start_new_session)\n",
      "  File \"/usr/lib/python3.6/subprocess.py\", line 1364, in _execute_child\n",
      "    raise child_exception_type(errno_num, err_msg, err_filename)\n",
      "FileNotFoundError: [Errno 2] No such file or directory: '/home/xuehp/git/bin/tools/multi-bleu.perl': '/home/xuehp/git/bin/tools/multi-bleu.perl'\n"
     ]
    }
   ],
   "source": [
    "!python3 main_train.py -lr=0.001 -layer=1 \\\n",
    "-hdd=128 -dr=0.2 -dec=Mem2Seq -bsz=8 -ds=babi -t=1 "
   ]
  },
  {
   "cell_type": "markdown",
   "metadata": {},
   "source": [
    "依赖Moses的multi-bleu.perl"
   ]
  },
  {
   "cell_type": "raw",
   "metadata": {},
   "source": [
    "\n",
    "准备评估文件\n",
    "\n",
    "(env) xuehp@haomeiya002:~/git$ cd ../github/\n",
    "git clone https://github.com/google/seq2seq.git\n",
    "\n",
    "\n",
    "(env) xuehp@haomeiya002:~/git$ mkdir -p bin/tools/\n",
    "(env) xuehp@haomeiya002:~/git$ cd bin/tools/           \n",
    "(env) xuehp@haomeiya002:~/git/bin/tools$ cp  ../github/seq2seq/bin/tools/multi-bleu.perl  .\n",
    "\n",
    "再次运行"
   ]
  },
  {
   "cell_type": "markdown",
   "metadata": {},
   "source": [
    "!python3 main_train.py -lr=0.001 -layer=1 \\\n",
    "-hdd=128 -dr=0.2 -dec=Mem2Seq -bsz=8 -ds=babi -t=1 \n",
    " \n",
    " \n",
    "2020-04-19 14:52:15 可以运行，关掉当前，放到后台运行\n",
    "\n",
    "```\n",
    "nohup python3 main_train.py -lr=0.001 -layer=1 \\\n",
    "-hdd=128 -dr=0.2 -dec=Mem2Seq -bsz=8 -ds=babi -t=1  > log.4.19.txt &\n",
    "```"
   ]
  },
  {
   "cell_type": "code",
   "execution_count": null,
   "metadata": {},
   "outputs": [],
   "source": []
  }
 ],
 "metadata": {
  "kernelspec": {
   "display_name": "Python 3",
   "language": "python",
   "name": "python3"
  },
  "language_info": {
   "codemirror_mode": {
    "name": "ipython",
    "version": 3
   },
   "file_extension": ".py",
   "mimetype": "text/x-python",
   "name": "python",
   "nbconvert_exporter": "python",
   "pygments_lexer": "ipython3",
   "version": "3.6.9"
  }
 },
 "nbformat": 4,
 "nbformat_minor": 2
}

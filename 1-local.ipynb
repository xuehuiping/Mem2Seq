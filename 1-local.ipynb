{
 "cells": [
  {
   "cell_type": "markdown",
   "metadata": {},
   "source": [
    "2020-04-23 10:00:21\n",
    "        "
   ]
  },
  {
   "cell_type": "code",
   "execution_count": 4,
   "metadata": {},
   "outputs": [
    {
     "name": "stdout",
     "output_type": "stream",
     "text": [
      "{'dataset': 'babi', 'task': '6', 'decoder': 'Mem2Seq', 'hidden': '128', 'batch': '8', 'learn': '0.001', 'drop': '0.2', 'unk_mask': 1, 'layer': '3', 'limit': -10000, 'path': None, 'test': None, 'sample': None, 'useKB': 1, 'entPtr': 0, 'evalp': 2, 'addName': ''}\n",
      "04-23 10:17 Reading lines from data/dialog-bAbI-tasks/dialog-babi-task6trn.txt\n",
      "04-23 10:17 Pointer percentace= 0.4338251336315043 \n",
      "04-23 10:17 Max responce Len: 29\n",
      "04-23 10:17 Max Input Len: 716\n",
      "04-23 10:17 Avg. User Utterances: 6.503090234857849\n",
      "04-23 10:17 Avg. Bot Utterances: 8.902348578491965\n",
      "04-23 10:17 Avg. KB results: 42.69406674907293\n",
      "04-23 10:17 Avg. responce Len: 10.182727020272146\n",
      "Sample:  [['<SILENCE>', '$u', 't1'], ['Hello', '$s', 't1'], [',', '$s', 't1'], ['welcome', '$s', 't1'], ['to', '$s', 't1'], ['the', '$s', 't1'], ['Cambridge', '$s', 't1'], ['restaurant', '$s', 't1'], ['system', '$s', 't1'], ['.', '$s', 't1'], ['You', '$s', 't1'], ['can', '$s', 't1'], ['ask', '$s', 't1'], ['for', '$s', 't1'], ['restaurants', '$s', 't1'], ['by', '$s', 't1'], ['area', '$s', 't1'], [',', '$s', 't1'], ['price', '$s', 't1'], ['range', '$s', 't1'], ['or', '$s', 't1'], ['food', '$s', 't1'], ['type', '$s', 't1'], ['.', '$s', 't1'], ['How', '$s', 't1'], ['may', '$s', 't1'], ['I', '$s', 't1'], ['help', '$s', 't1'], ['you', '$s', 't1'], ['?', '$s', 't1'], ['i', '$u', 't2'], ['want', '$u', 't2'], ['a', '$u', 't2'], ['moderately', '$u', 't2'], ['priced', '$u', 't2'], ['restaurant', '$u', 't2'], ['in', '$u', 't2'], ['the', '$u', 't2'], ['west', '$u', 't2'], ['part', '$u', 't2'], ['of', '$u', 't2'], ['town', '$u', 't2'], ['$$$$', '$$$$', '$$$$']] api_call R_cuisine west moderate [42, 42, 38, 42] [0, 0, 1, 0]\n",
      "04-23 10:17 Reading lines from data/dialog-bAbI-tasks/dialog-babi-task6dev.txt\n",
      "04-23 10:17 Pointer percentace= 0.43833333333333335 \n",
      "04-23 10:17 Max responce Len: 29\n",
      "04-23 10:17 Max Input Len: 613\n",
      "04-23 10:17 Avg. User Utterances: 5.73\n",
      "04-23 10:17 Avg. Bot Utterances: 8.318\n",
      "04-23 10:17 Avg. KB results: 47.916\n",
      "04-23 10:17 Avg. responce Len: 10.242846838182256\n",
      "Sample:  [['<SILENCE>', '$u', 't1'], ['Hello', '$s', 't1'], [',', '$s', 't1'], ['welcome', '$s', 't1'], ['to', '$s', 't1'], ['the', '$s', 't1'], ['Cambridge', '$s', 't1'], ['restaurant', '$s', 't1'], ['system', '$s', 't1'], ['.', '$s', 't1'], ['You', '$s', 't1'], ['can', '$s', 't1'], ['ask', '$s', 't1'], ['for', '$s', 't1'], ['restaurants', '$s', 't1'], ['by', '$s', 't1'], ['area', '$s', 't1'], [',', '$s', 't1'], ['price', '$s', 't1'], ['range', '$s', 't1'], ['or', '$s', 't1'], ['food', '$s', 't1'], ['type', '$s', 't1'], ['.', '$s', 't1'], ['How', '$s', 't1'], ['may', '$s', 't1'], ['I', '$s', 't1'], ['help', '$s', 't1'], ['you', '$s', 't1'], ['?', '$s', 't1'], ['expensive', '$u', 't2'], ['restaurant', '$u', 't2'], ['in', '$u', 't2'], ['the', '$u', 't2'], ['south', '$u', 't2'], ['part', '$u', 't2'], ['of', '$u', 't2'], ['town', '$u', 't2'], ['$$$$', '$$$$', '$$$$']] What kind of food would you like? [38, 38, 36, 21, 38, 28, 38] [0, 0, 1, 1, 0, 1, 0]\n",
      "04-23 10:17 Reading lines from data/dialog-bAbI-tasks/dialog-babi-task6tst.txt\n",
      "04-23 10:17 Pointer percentace= 0.4992666567788929 \n",
      "04-23 10:17 Max responce Len: 29\n",
      "04-23 10:17 Max Input Len: 1081\n",
      "04-23 10:17 Avg. User Utterances: 7.744852282900626\n",
      "04-23 10:17 Avg. Bot Utterances: 10.059982094897046\n",
      "04-23 10:17 Avg. KB results: 27.87108325872874\n",
      "04-23 10:17 Avg. responce Len: 10.800213580137047\n",
      "Sample:  [['<SILENCE>', '$u', 't1'], ['Hello', '$s', 't1'], [',', '$s', 't1'], ['welcome', '$s', 't1'], ['to', '$s', 't1'], ['the', '$s', 't1'], ['Cambridge', '$s', 't1'], ['restaurant', '$s', 't1'], ['system', '$s', 't1'], ['.', '$s', 't1'], ['You', '$s', 't1'], ['can', '$s', 't1'], ['ask', '$s', 't1'], ['for', '$s', 't1'], ['restaurants', '$s', 't1'], ['by', '$s', 't1'], ['area', '$s', 't1'], [',', '$s', 't1'], ['price', '$s', 't1'], ['range', '$s', 't1'], ['or', '$s', 't1'], ['food', '$s', 't1'], ['type', '$s', 't1'], ['.', '$s', 't1'], ['How', '$s', 't1'], ['may', '$s', 't1'], ['I', '$s', 't1'], ['help', '$s', 't1'], ['you', '$s', 't1'], ['?', '$s', 't1'], ['<SILENCE>', '$u', 't2'], ['$$$$', '$$$$', '$$$$']] What kind of food would you like? [31, 31, 31, 21, 31, 28, 31] [0, 0, 0, 1, 0, 1, 0]\n",
      "04-23 10:17 Read 14404 sentence pairs train\n",
      "04-23 10:17 Read 4159 sentence pairs dev\n",
      "04-23 10:17 Read 11237 sentence pairs test\n",
      "04-23 10:17 Max len Input 1082 \n",
      "04-23 10:17 Vocab_size 1066 \n",
      "04-23 10:17 USE_CUDA=False\n",
      "/Users/huihui/anaconda3/lib/python3.7/site-packages/torch/nn/modules/rnn.py:51: UserWarning: dropout option adds dropout after all but last recurrent layer, so non-zero dropout expects num_layers greater than 1, but got dropout=0.2 and num_layers=1\n",
      "  \"num_layers={}\".format(dropout, num_layers))\n",
      "04-23 10:17 Epoch:0\n",
      "  0%|                                                  | 0/1801 [00:00<?, ?it/s]/Users/huihui/git/Mem2Seq/models/Mem2Seq.py:155: UserWarning: torch.nn.utils.clip_grad_norm is now deprecated in favor of torch.nn.utils.clip_grad_norm_.\n",
      "  ec = torch.nn.utils.clip_grad_norm(self.encoder.parameters(), clip)\n",
      "/Users/huihui/git/Mem2Seq/models/Mem2Seq.py:156: UserWarning: torch.nn.utils.clip_grad_norm is now deprecated in favor of torch.nn.utils.clip_grad_norm_.\n",
      "  dc = torch.nn.utils.clip_grad_norm(self.decoder.parameters(), clip)\n",
      "L:3.74, VL:2.22, PL:1.51: 100%|█████████████| 1801/1801 [13:21<00:00,  2.25it/s]\n",
      "04-23 10:30 Epoch:1\n",
      "L:2.08, VL:1.11, PL:0.97: 100%|█████████████| 1801/1801 [13:16<00:00,  2.26it/s]\n",
      "04-23 10:43 STARTING EVALUATION\n",
      "task_id=False\n",
      "R:0.4487,W:38.0422: 100%|█████████████████████| 520/520 [04:31<00:00,  1.92it/s]\n",
      "04-23 10:48 Dialog Accuracy:\t0.0\n",
      "04-23 10:48 F1 SCORE:\t0.631856974915651\n",
      "Unable to fetch multi-bleu.perl script, using local.\n",
      "Traceback (most recent call last):\n",
      "  File \"main_train.py\", line 62, in <module>\n",
      "    acc = model.evaluate(dev,avg_best, BLEU)    \n",
      "  File \"/Users/huihui/git/Mem2Seq/models/Mem2Seq.py\", line 362, in evaluate\n",
      "    bleu_score = moses_multi_bleu(np.array(hyp), np.array(ref), lowercase=True) \n",
      "  File \"/Users/huihui/git/Mem2Seq/utils/measures.py\", line 103, in moses_multi_bleu\n",
      "    bleu_out = subprocess.check_output(bleu_cmd, stdin=read_pred, stderr=subprocess.STDOUT)\n",
      "  File \"/Users/huihui/anaconda3/lib/python3.7/subprocess.py\", line 395, in check_output\n",
      "    **kwargs).stdout\n",
      "  File \"/Users/huihui/anaconda3/lib/python3.7/subprocess.py\", line 472, in run\n",
      "    with Popen(*popenargs, **kwargs) as process:\n",
      "  File \"/Users/huihui/anaconda3/lib/python3.7/subprocess.py\", line 775, in __init__\n",
      "    restore_signals, start_new_session)\n",
      "  File \"/Users/huihui/anaconda3/lib/python3.7/subprocess.py\", line 1522, in _execute_child\n",
      "    raise child_exception_type(errno_num, err_msg, err_filename)\n",
      "FileNotFoundError: [Errno 2] No such file or directory: '/Users/huihui/git/bin/tools/multi-bleu.perl': '/Users/huihui/git/bin/tools/multi-bleu.perl'\n"
     ]
    }
   ],
   "source": [
    "!python3 main_train.py -lr=0.001 -layer=3 \\\n",
    "-hdd=128 -dr=0.2 -dec=Mem2Seq -bsz=8 -ds=babi -t=6 "
   ]
  },
  {
   "cell_type": "raw",
   "metadata": {},
   "source": [
    "\n",
    "        return 'L:{:.2f}, VL:{:.2f}, PL:{:.2f}'.format(print_loss_avg,print_loss_vac,print_loss_ptr)"
   ]
  },
  {
   "cell_type": "code",
   "execution_count": null,
   "metadata": {},
   "outputs": [],
   "source": []
  }
 ],
 "metadata": {
  "kernelspec": {
   "display_name": "Python 3",
   "language": "python",
   "name": "python3"
  },
  "language_info": {
   "codemirror_mode": {
    "name": "ipython",
    "version": 3
   },
   "file_extension": ".py",
   "mimetype": "text/x-python",
   "name": "python",
   "nbconvert_exporter": "python",
   "pygments_lexer": "ipython3",
   "version": "3.7.3"
  }
 },
 "nbformat": 4,
 "nbformat_minor": 2
}

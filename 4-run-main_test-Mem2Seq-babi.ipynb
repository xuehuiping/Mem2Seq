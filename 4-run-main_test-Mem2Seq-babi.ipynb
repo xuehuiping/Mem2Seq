{
 "cells": [
  {
   "cell_type": "markdown",
   "metadata": {},
   "source": [
    "# 第一次"
   ]
  },
  {
   "cell_type": "code",
   "execution_count": 11,
   "metadata": {},
   "outputs": [
    {
     "name": "stdout",
     "output_type": "stream",
     "text": [
      "{'dataset': 'babi', 'task': '1', 'decoder': 'Mem2Seq', 'hidden': None, 'batch': '8', 'learn': None, 'drop': None, 'unk_mask': 1, 'layer': None, 'limit': -10000, 'path': 'save/mem2seq-BABI/1HDD128BSZ8DR0.2L1lr0.001Mem2Seq1.0', 'test': None, 'sample': None, 'useKB': 1, 'entPtr': 0, 'evalp': 2, 'addName': ''}\n",
      "04-19 19:57 Reading lines from data/dialog-bAbI-tasks/dialog-babi-task1trn.txt\n",
      "04-19 19:57 Pointer percentace= 0.23558445004643758 \n",
      "04-19 19:57 Max responce Len: 9\n",
      "04-19 19:57 Max Input Len: 73\n",
      "04-19 19:57 Avg. User Utterances: 4.024\n",
      "04-19 19:57 Avg. Bot Utterances: 6.024\n",
      "04-19 19:57 Avg. KB results: 0.0\n",
      "04-19 19:57 Avg. responce Len: 6.255810092961488\n",
      "Sample:  [['hi', '$u', 't1'], ['hello', '$s', 't1'], ['what', '$s', 't1'], ['can', '$s', 't1'], ['i', '$s', 't1'], ['help', '$s', 't1'], ['you', '$s', 't1'], ['with', '$s', 't1'], ['today', '$s', 't1'], ['can', '$u', 't2'], ['you', '$u', 't2'], ['book', '$u', 't2'], ['a', '$u', 't2'], ['table', '$u', 't2'], ['$$$$', '$$$$', '$$$$']] i'm on it [14, 14, 14] [0, 0, 0]\n",
      "04-19 19:57 Reading lines from data/dialog-bAbI-tasks/dialog-babi-task1dev.txt\n",
      "04-19 19:57 Pointer percentace= 0.23736755231350834 \n",
      "04-19 19:57 Max responce Len: 9\n",
      "04-19 19:57 Max Input Len: 73\n",
      "04-19 19:57 Avg. User Utterances: 4.015\n",
      "04-19 19:57 Avg. Bot Utterances: 6.015\n",
      "04-19 19:57 Avg. KB results: 0.0\n",
      "04-19 19:57 Avg. responce Len: 6.244721529509559\n",
      "Sample:  [['hello', '$u', 't1'], ['hello', '$s', 't1'], ['what', '$s', 't1'], ['can', '$s', 't1'], ['i', '$s', 't1'], ['help', '$s', 't1'], ['you', '$s', 't1'], ['with', '$s', 't1'], ['today', '$s', 't1'], ['can', '$u', 't2'], ['you', '$u', 't2'], ['book', '$u', 't2'], ['a', '$u', 't2'], ['table', '$u', 't2'], ['for', '$u', 't2'], ['six', '$u', 't2'], ['people', '$u', 't2'], ['with', '$u', 't2'], ['french', '$u', 't2'], ['food', '$u', 't2'], ['$$$$', '$$$$', '$$$$']] i'm on it [20, 20, 20] [0, 0, 0]\n",
      "04-19 19:57 Reading lines from data/dialog-bAbI-tasks/dialog-babi-task1tst.txt\n",
      "04-19 19:57 Pointer percentace= 0.2377867746288799 \n",
      "04-19 19:57 Max responce Len: 9\n",
      "04-19 19:57 Max Input Len: 73\n",
      "04-19 19:57 Avg. User Utterances: 3.936\n",
      "04-19 19:57 Avg. Bot Utterances: 5.936\n",
      "04-19 19:57 Avg. KB results: 0.0\n",
      "04-19 19:57 Avg. responce Len: 6.241576819407008\n",
      "Sample:  [['good', '$u', 't1'], ['morning', '$u', 't1'], ['hello', '$s', 't1'], ['what', '$s', 't1'], ['can', '$s', 't1'], ['i', '$s', 't1'], ['help', '$s', 't1'], ['you', '$s', 't1'], ['with', '$s', 't1'], ['today', '$s', 't1'], ['can', '$u', 't2'], ['you', '$u', 't2'], ['book', '$u', 't2'], ['a', '$u', 't2'], ['table', '$u', 't2'], ['in', '$u', 't2'], ['a', '$u', 't2'], ['cheap', '$u', 't2'], ['price', '$u', 't2'], ['range', '$u', 't2'], ['in', '$u', 't2'], ['london', '$u', 't2'], ['$$$$', '$$$$', '$$$$']] i'm on it [22, 22, 22] [0, 0, 0]\n",
      "04-19 19:57 Reading lines from data/dialog-bAbI-tasks/dialog-babi-task1tst-OOV.txt\n",
      "04-19 19:57 Pointer percentace= 0.23688052451357736 \n",
      "04-19 19:57 Max responce Len: 9\n",
      "04-19 19:57 Max Input Len: 73\n",
      "04-19 19:57 Avg. User Utterances: 4.02\n",
      "04-19 19:57 Avg. Bot Utterances: 6.02\n",
      "04-19 19:57 Avg. KB results: 0.0\n",
      "04-19 19:57 Avg. responce Len: 6.25797342192691\n",
      "Sample:  [['hello', '$u', 't1'], ['hello', '$s', 't1'], ['what', '$s', 't1'], ['can', '$s', 't1'], ['i', '$s', 't1'], ['help', '$s', 't1'], ['you', '$s', 't1'], ['with', '$s', 't1'], ['today', '$s', 't1'], ['may', '$u', 't2'], ['i', '$u', 't2'], ['have', '$u', 't2'], ['a', '$u', 't2'], ['table', '$u', 't2'], ['in', '$u', 't2'], ['seoul', '$u', 't2'], ['$$$$', '$$$$', '$$$$']] i'm on it [16, 16, 16] [0, 0, 0]\n",
      "04-19 19:57 Read 6024 sentence pairs train\n",
      "04-19 19:57 Read 6015 sentence pairs dev\n",
      "04-19 19:57 Read 5936 sentence pairs test\n",
      "04-19 19:57 Read 6020 sentence pairs test\n",
      "04-19 19:57 Max len Input 74 \n",
      "04-19 19:57 Vocab_size 93 \n",
      "04-19 19:57 USE_CUDA=False\n",
      "04-19 19:57 MODEL save/mem2seq-BABI/1HDD128BSZ8DR0.2L1lr0.001Mem2Seq1.0 LOADED\n",
      "04-19 19:57 STARTING EVALUATION\n",
      "R:1.0000,W:0.0000: 100%|██████████████████████| 742/742 [00:54<00:00, 13.74it/s]\n",
      "04-19 19:58 Dialog Accuracy:\t1.0\n",
      "Unable to fetch multi-bleu.perl script, using local.\n",
      "04-19 19:58 BLEU SCORE:100.0\n",
      "1.0\n",
      "04-19 19:58 STARTING EVALUATION\n",
      "R:0.8946,W:3.1269: 100%|██████████████████████| 753/753 [00:54<00:00, 13.80it/s]\n",
      "04-19 19:59 Dialog Accuracy:\t0.439\n",
      "Unable to fetch multi-bleu.perl script, using local.\n",
      "04-19 19:59 BLEU SCORE:94.31\n",
      "0.8945883134130146\n"
     ]
    }
   ],
   "source": [
    "!python3 main_test.py -dec=Mem2Seq \\\n",
    "-path=save/mem2seq-BABI/1HDD128BSZ8DR0.2L1lr0.001Mem2Seq1.0 -bsz=8 -ds=babi -t=1"
   ]
  },
  {
   "cell_type": "raw",
   "metadata": {},
   "source": [
    "训练集：Dialog Accuracy:\t1.0； BLEU SCORE:100.0\n",
    "测试集：Dialog Accuracy:\t0.439；BLEU SCORE:94.31\n",
    "\n",
    "acc_test = 0.894\n",
    "\n",
    "\n",
    "换一个模型，重新测试。 上面这个好像是过拟合了？\n"
   ]
  },
  {
   "cell_type": "markdown",
   "metadata": {},
   "source": [
    "# 第二次"
   ]
  },
  {
   "cell_type": "code",
   "execution_count": 12,
   "metadata": {},
   "outputs": [
    {
     "name": "stdout",
     "output_type": "stream",
     "text": [
      "{'dataset': 'babi', 'task': '1', 'decoder': 'Mem2Seq', 'hidden': None, 'batch': '8', 'learn': None, 'drop': None, 'unk_mask': 1, 'layer': None, 'limit': -10000, 'path': 'save/mem2seq-BABI/1HDD128BSZ8DR0.2L1lr0.001Mem2Seq0.946286094224924', 'test': None, 'sample': None, 'useKB': 1, 'entPtr': 0, 'evalp': 2, 'addName': ''}\n",
      "04-19 20:03 Reading lines from data/dialog-bAbI-tasks/dialog-babi-task1trn.txt\n",
      "04-19 20:03 Pointer percentace= 0.23558445004643758 \n",
      "04-19 20:03 Max responce Len: 9\n",
      "04-19 20:03 Max Input Len: 73\n",
      "04-19 20:03 Avg. User Utterances: 4.024\n",
      "04-19 20:03 Avg. Bot Utterances: 6.024\n",
      "04-19 20:03 Avg. KB results: 0.0\n",
      "04-19 20:03 Avg. responce Len: 6.255810092961488\n",
      "Sample:  [['hi', '$u', 't1'], ['hello', '$s', 't1'], ['what', '$s', 't1'], ['can', '$s', 't1'], ['i', '$s', 't1'], ['help', '$s', 't1'], ['you', '$s', 't1'], ['with', '$s', 't1'], ['today', '$s', 't1'], ['can', '$u', 't2'], ['you', '$u', 't2'], ['book', '$u', 't2'], ['a', '$u', 't2'], ['table', '$u', 't2'], ['$$$$', '$$$$', '$$$$']] i'm on it [14, 14, 14] [0, 0, 0]\n",
      "04-19 20:03 Reading lines from data/dialog-bAbI-tasks/dialog-babi-task1dev.txt\n",
      "04-19 20:03 Pointer percentace= 0.23736755231350834 \n",
      "04-19 20:03 Max responce Len: 9\n",
      "04-19 20:03 Max Input Len: 73\n",
      "04-19 20:03 Avg. User Utterances: 4.015\n",
      "04-19 20:03 Avg. Bot Utterances: 6.015\n",
      "04-19 20:03 Avg. KB results: 0.0\n",
      "04-19 20:03 Avg. responce Len: 6.244721529509559\n",
      "Sample:  [['hello', '$u', 't1'], ['hello', '$s', 't1'], ['what', '$s', 't1'], ['can', '$s', 't1'], ['i', '$s', 't1'], ['help', '$s', 't1'], ['you', '$s', 't1'], ['with', '$s', 't1'], ['today', '$s', 't1'], ['can', '$u', 't2'], ['you', '$u', 't2'], ['book', '$u', 't2'], ['a', '$u', 't2'], ['table', '$u', 't2'], ['for', '$u', 't2'], ['six', '$u', 't2'], ['people', '$u', 't2'], ['with', '$u', 't2'], ['french', '$u', 't2'], ['food', '$u', 't2'], ['$$$$', '$$$$', '$$$$']] i'm on it [20, 20, 20] [0, 0, 0]\n",
      "04-19 20:03 Reading lines from data/dialog-bAbI-tasks/dialog-babi-task1tst.txt\n",
      "04-19 20:03 Pointer percentace= 0.2377867746288799 \n",
      "04-19 20:03 Max responce Len: 9\n",
      "04-19 20:03 Max Input Len: 73\n",
      "04-19 20:03 Avg. User Utterances: 3.936\n",
      "04-19 20:03 Avg. Bot Utterances: 5.936\n",
      "04-19 20:03 Avg. KB results: 0.0\n",
      "04-19 20:03 Avg. responce Len: 6.241576819407008\n",
      "Sample:  [['good', '$u', 't1'], ['morning', '$u', 't1'], ['hello', '$s', 't1'], ['what', '$s', 't1'], ['can', '$s', 't1'], ['i', '$s', 't1'], ['help', '$s', 't1'], ['you', '$s', 't1'], ['with', '$s', 't1'], ['today', '$s', 't1'], ['can', '$u', 't2'], ['you', '$u', 't2'], ['book', '$u', 't2'], ['a', '$u', 't2'], ['table', '$u', 't2'], ['in', '$u', 't2'], ['a', '$u', 't2'], ['cheap', '$u', 't2'], ['price', '$u', 't2'], ['range', '$u', 't2'], ['in', '$u', 't2'], ['london', '$u', 't2'], ['$$$$', '$$$$', '$$$$']] i'm on it [22, 22, 22] [0, 0, 0]\n",
      "04-19 20:03 Reading lines from data/dialog-bAbI-tasks/dialog-babi-task1tst-OOV.txt\n",
      "04-19 20:03 Pointer percentace= 0.23688052451357736 \n",
      "04-19 20:03 Max responce Len: 9\n",
      "04-19 20:03 Max Input Len: 73\n",
      "04-19 20:03 Avg. User Utterances: 4.02\n",
      "04-19 20:03 Avg. Bot Utterances: 6.02\n",
      "04-19 20:03 Avg. KB results: 0.0\n",
      "04-19 20:03 Avg. responce Len: 6.25797342192691\n",
      "Sample:  [['hello', '$u', 't1'], ['hello', '$s', 't1'], ['what', '$s', 't1'], ['can', '$s', 't1'], ['i', '$s', 't1'], ['help', '$s', 't1'], ['you', '$s', 't1'], ['with', '$s', 't1'], ['today', '$s', 't1'], ['may', '$u', 't2'], ['i', '$u', 't2'], ['have', '$u', 't2'], ['a', '$u', 't2'], ['table', '$u', 't2'], ['in', '$u', 't2'], ['seoul', '$u', 't2'], ['$$$$', '$$$$', '$$$$']] i'm on it [16, 16, 16] [0, 0, 0]\n",
      "04-19 20:03 Read 6024 sentence pairs train\n",
      "04-19 20:03 Read 6015 sentence pairs dev\n",
      "04-19 20:03 Read 5936 sentence pairs test\n",
      "04-19 20:03 Read 6020 sentence pairs test\n",
      "04-19 20:03 Max len Input 74 \n",
      "04-19 20:03 Vocab_size 93 \n",
      "04-19 20:03 USE_CUDA=False\n",
      "04-19 20:03 MODEL save/mem2seq-BABI/1HDD128BSZ8DR0.2L1lr0.001Mem2Seq0.946286094224924 LOADED\n",
      "04-19 20:03 STARTING EVALUATION\n",
      "R:0.9447,W:4.5005: 100%|██████████████████████| 742/742 [00:54<00:00, 13.53it/s]\n",
      "04-19 20:04 Dialog Accuracy:\t0.673\n",
      "Unable to fetch multi-bleu.perl script, using local.\n",
      "04-19 20:04 BLEU SCORE:94.6\n",
      "0.944743935309973\n",
      "04-19 20:04 STARTING EVALUATION\n",
      "R:0.7933,W:10.3208: 100%|█████████████████████| 753/753 [00:55<00:00, 13.57it/s]\n",
      "04-19 20:05 Dialog Accuracy:\t0.245\n",
      "04-19 20:05 BLEU SCORE:85.44\n",
      "0.7933266932270916\n"
     ]
    }
   ],
   "source": [
    "!python3 main_test.py -dec=Mem2Seq \\\n",
    "-path=save/mem2seq-BABI/1HDD128BSZ8DR0.2L1lr0.001Mem2Seq0.946286094224924 -bsz=8 -ds=babi -t=1"
   ]
  },
  {
   "cell_type": "raw",
   "metadata": {},
   "source": [
    "训练集：Dialog Accuracy:\t0.673； BLEU SCORE:94.6\n",
    "测试集：Dialog Accuracy:\t0.245；BLEU SCORE:85.44\n",
    "\n",
    "acc_test = 0.793\n"
   ]
  },
  {
   "cell_type": "markdown",
   "metadata": {},
   "source": [
    "# 第三次"
   ]
  },
  {
   "cell_type": "code",
   "execution_count": 13,
   "metadata": {},
   "outputs": [
    {
     "name": "stdout",
     "output_type": "stream",
     "text": [
      "{'dataset': 'babi', 'task': '1', 'decoder': 'Mem2Seq', 'hidden': None, 'batch': '8', 'learn': None, 'drop': None, 'unk_mask': 1, 'layer': None, 'limit': -10000, 'path': 'save/mem2seq-BABI/1HDD128BSZ8DR0.2L1lr0.001Mem2Seq0.9644281914893617', 'test': None, 'sample': None, 'useKB': 1, 'entPtr': 0, 'evalp': 2, 'addName': ''}\n",
      "04-19 20:07 Reading lines from data/dialog-bAbI-tasks/dialog-babi-task1trn.txt\n",
      "04-19 20:07 Pointer percentace= 0.23558445004643758 \n",
      "04-19 20:07 Max responce Len: 9\n",
      "04-19 20:07 Max Input Len: 73\n",
      "04-19 20:07 Avg. User Utterances: 4.024\n",
      "04-19 20:07 Avg. Bot Utterances: 6.024\n",
      "04-19 20:07 Avg. KB results: 0.0\n",
      "04-19 20:07 Avg. responce Len: 6.255810092961488\n",
      "Sample:  [['hi', '$u', 't1'], ['hello', '$s', 't1'], ['what', '$s', 't1'], ['can', '$s', 't1'], ['i', '$s', 't1'], ['help', '$s', 't1'], ['you', '$s', 't1'], ['with', '$s', 't1'], ['today', '$s', 't1'], ['can', '$u', 't2'], ['you', '$u', 't2'], ['book', '$u', 't2'], ['a', '$u', 't2'], ['table', '$u', 't2'], ['$$$$', '$$$$', '$$$$']] i'm on it [14, 14, 14] [0, 0, 0]\n",
      "04-19 20:07 Reading lines from data/dialog-bAbI-tasks/dialog-babi-task1dev.txt\n",
      "04-19 20:07 Pointer percentace= 0.23736755231350834 \n",
      "04-19 20:07 Max responce Len: 9\n",
      "04-19 20:07 Max Input Len: 73\n",
      "04-19 20:07 Avg. User Utterances: 4.015\n",
      "04-19 20:07 Avg. Bot Utterances: 6.015\n",
      "04-19 20:07 Avg. KB results: 0.0\n",
      "04-19 20:07 Avg. responce Len: 6.244721529509559\n",
      "Sample:  [['hello', '$u', 't1'], ['hello', '$s', 't1'], ['what', '$s', 't1'], ['can', '$s', 't1'], ['i', '$s', 't1'], ['help', '$s', 't1'], ['you', '$s', 't1'], ['with', '$s', 't1'], ['today', '$s', 't1'], ['can', '$u', 't2'], ['you', '$u', 't2'], ['book', '$u', 't2'], ['a', '$u', 't2'], ['table', '$u', 't2'], ['for', '$u', 't2'], ['six', '$u', 't2'], ['people', '$u', 't2'], ['with', '$u', 't2'], ['french', '$u', 't2'], ['food', '$u', 't2'], ['$$$$', '$$$$', '$$$$']] i'm on it [20, 20, 20] [0, 0, 0]\n",
      "04-19 20:07 Reading lines from data/dialog-bAbI-tasks/dialog-babi-task1tst.txt\n",
      "04-19 20:07 Pointer percentace= 0.2377867746288799 \n",
      "04-19 20:07 Max responce Len: 9\n",
      "04-19 20:07 Max Input Len: 73\n",
      "04-19 20:07 Avg. User Utterances: 3.936\n",
      "04-19 20:07 Avg. Bot Utterances: 5.936\n",
      "04-19 20:07 Avg. KB results: 0.0\n",
      "04-19 20:07 Avg. responce Len: 6.241576819407008\n",
      "Sample:  [['good', '$u', 't1'], ['morning', '$u', 't1'], ['hello', '$s', 't1'], ['what', '$s', 't1'], ['can', '$s', 't1'], ['i', '$s', 't1'], ['help', '$s', 't1'], ['you', '$s', 't1'], ['with', '$s', 't1'], ['today', '$s', 't1'], ['can', '$u', 't2'], ['you', '$u', 't2'], ['book', '$u', 't2'], ['a', '$u', 't2'], ['table', '$u', 't2'], ['in', '$u', 't2'], ['a', '$u', 't2'], ['cheap', '$u', 't2'], ['price', '$u', 't2'], ['range', '$u', 't2'], ['in', '$u', 't2'], ['london', '$u', 't2'], ['$$$$', '$$$$', '$$$$']] i'm on it [22, 22, 22] [0, 0, 0]\n",
      "04-19 20:07 Reading lines from data/dialog-bAbI-tasks/dialog-babi-task1tst-OOV.txt\n",
      "04-19 20:08 Pointer percentace= 0.23688052451357736 \n",
      "04-19 20:08 Max responce Len: 9\n",
      "04-19 20:08 Max Input Len: 73\n",
      "04-19 20:08 Avg. User Utterances: 4.02\n",
      "04-19 20:08 Avg. Bot Utterances: 6.02\n",
      "04-19 20:08 Avg. KB results: 0.0\n",
      "04-19 20:08 Avg. responce Len: 6.25797342192691\n",
      "Sample:  [['hello', '$u', 't1'], ['hello', '$s', 't1'], ['what', '$s', 't1'], ['can', '$s', 't1'], ['i', '$s', 't1'], ['help', '$s', 't1'], ['you', '$s', 't1'], ['with', '$s', 't1'], ['today', '$s', 't1'], ['may', '$u', 't2'], ['i', '$u', 't2'], ['have', '$u', 't2'], ['a', '$u', 't2'], ['table', '$u', 't2'], ['in', '$u', 't2'], ['seoul', '$u', 't2'], ['$$$$', '$$$$', '$$$$']] i'm on it [16, 16, 16] [0, 0, 0]\n",
      "04-19 20:08 Read 6024 sentence pairs train\n",
      "04-19 20:08 Read 6015 sentence pairs dev\n",
      "04-19 20:08 Read 5936 sentence pairs test\n",
      "04-19 20:08 Read 6020 sentence pairs test\n",
      "04-19 20:08 Max len Input 74 \n",
      "04-19 20:08 Vocab_size 93 \n",
      "04-19 20:08 USE_CUDA=False\n",
      "04-19 20:08 MODEL save/mem2seq-BABI/1HDD128BSZ8DR0.2L1lr0.001Mem2Seq0.9644281914893617 LOADED\n",
      "04-19 20:08 STARTING EVALUATION\n",
      "R:0.9653,W:3.3930: 100%|██████████████████████| 742/742 [00:53<00:00, 13.82it/s]\n",
      "04-19 20:08 Dialog Accuracy:\t0.794\n",
      "Unable to fetch multi-bleu.perl script, using local.\n",
      "04-19 20:08 BLEU SCORE:96.46\n",
      "0.9652964959568733\n",
      "04-19 20:08 STARTING EVALUATION\n",
      "R:0.8529,W:6.1395: 100%|██████████████████████| 753/753 [00:54<00:00, 13.80it/s]\n",
      "04-19 20:09 Dialog Accuracy:\t0.309\n",
      "04-19 20:09 BLEU SCORE:90.53\n",
      "0.852921646746348\n"
     ]
    }
   ],
   "source": [
    "!python3 main_test.py -dec=Mem2Seq \\\n",
    "-path=save/mem2seq-BABI/1HDD128BSZ8DR0.2L1lr0.001Mem2Seq0.9644281914893617 -bsz=8 -ds=babi -t=1"
   ]
  },
  {
   "cell_type": "raw",
   "metadata": {},
   "source": [
    "训练集：Dialog Accuracy:\t0.794； BLEU SCORE:96.46\n",
    "测试集：Dialog Accuracy:\t0.309；BLEU SCORE:90.53\n",
    "\n",
    "acc_test = 0.853"
   ]
  },
  {
   "cell_type": "code",
   "execution_count": null,
   "metadata": {},
   "outputs": [],
   "source": []
  }
 ],
 "metadata": {
  "kernelspec": {
   "display_name": "Python 3",
   "language": "python",
   "name": "python3"
  },
  "language_info": {
   "codemirror_mode": {
    "name": "ipython",
    "version": 3
   },
   "file_extension": ".py",
   "mimetype": "text/x-python",
   "name": "python",
   "nbconvert_exporter": "python",
   "pygments_lexer": "ipython3",
   "version": "3.7.3"
  }
 },
 "nbformat": 4,
 "nbformat_minor": 2
}
